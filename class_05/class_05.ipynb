{
 "cells": [
  {
   "cell_type": "markdown",
   "metadata": {},
   "source": [
    "# List\n",
    "* dynamic length\n",
    "* hetrogenouse data types\n",
    "* indexing\n",
    "    * positive  0_1_2.....\n",
    "    *negeative -1.-2,-3\n",
    "## slicing\n",
    "* variable name[start : ending : step]\n",
    "*n-1 "
   ]
  },
  {
   "cell_type": "code",
   "execution_count": 1,
   "metadata": {},
   "outputs": [],
   "source": [
    "name : str = \"Nofil\"\n",
    "name1 : str = \"Nofil_1\"\n",
    "name2: str = \"Nofil_2\""
   ]
  },
  {
   "cell_type": "code",
   "execution_count": 2,
   "metadata": {},
   "outputs": [
    {
     "name": "stdout",
     "output_type": "stream",
     "text": [
      "['Nofil', 'nofil_1', 'Nofil_2']\n"
     ]
    }
   ],
   "source": [
    "# old method\n",
    "name = ['Nofil','nofil_1','Nofil_2']\n",
    "print(name)"
   ]
  },
  {
   "cell_type": "code",
   "execution_count": 4,
   "metadata": {},
   "outputs": [
    {
     "name": "stdout",
     "output_type": "stream",
     "text": [
      "['Nofil', 'rayyan', 'imran']\n"
     ]
    }
   ],
   "source": [
    "# positive index     0        1        2\n",
    "name : list[str]= [\"Nofil\",\"rayyan\",\"imran\"]\n",
    "#negative indexing    -3      -2       -1\n",
    "\n",
    "print(name)"
   ]
  },
  {
   "cell_type": "code",
   "execution_count": 7,
   "metadata": {},
   "outputs": [
    {
     "name": "stdout",
     "output_type": "stream",
     "text": [
      "['Nofil', 'rayyan', 'imran', 12, True]\n"
     ]
    }
   ],
   "source": [
    "from typing import Any\n",
    "\n",
    "name : list[ Any]= [\"Nofil\",\"rayyan\",\"imran\",12,True]\n",
    "\n",
    "print(name)\n"
   ]
  },
  {
   "cell_type": "markdown",
   "metadata": {},
   "source": [
    "# slicing"
   ]
  },
  {
   "cell_type": "code",
   "execution_count": 9,
   "metadata": {},
   "outputs": [
    {
     "name": "stdout",
     "output_type": "stream",
     "text": [
      "['Nofil', 'rayyan', 'imran', 12, True]\n",
      "['rayyan', 'imran', 12]\n"
     ]
    }
   ],
   "source": [
    "#p-index                0       1       2     3   4  \n",
    "name : list[ Any]= [\"Nofil\",\"rayyan\",\"imran\",12,True]\n",
    "#nindex                 -5      -4      -3   -2   -1\n",
    "print(name)\n",
    "print(name[1:4])"
   ]
  },
  {
   "cell_type": "code",
   "execution_count": 10,
   "metadata": {},
   "outputs": [
    {
     "name": "stdout",
     "output_type": "stream",
     "text": [
      "['Nofil', 'rayyan', 'imran', 12, True]\n",
      "['Nofil', 'rayyan', 'imran', 12]\n"
     ]
    }
   ],
   "source": [
    "#p-index                0       1       2     3   4  \n",
    "name : list[ Any]= [\"Nofil\",\"rayyan\",\"imran\",12,True]\n",
    "#nindex                 -5      -4      -3   -2   -1\n",
    "print(name)\n",
    "print(name[ :4])"
   ]
  },
  {
   "cell_type": "code",
   "execution_count": 11,
   "metadata": {},
   "outputs": [
    {
     "name": "stdout",
     "output_type": "stream",
     "text": [
      "['Nofil', 'rayyan', 'imran', 12, True]\n",
      "['Nofil', 'rayyan', 'imran', 12, True]\n"
     ]
    }
   ],
   "source": [
    "#p-index                0       1       2     3   4  \n",
    "name : list[ Any]= [\"Nofil\",\"rayyan\",\"imran\",12,True]\n",
    "#nindex                 -5      -4      -3   -2   -1\n",
    "print(name)\n",
    "print(name[ : ])"
   ]
  },
  {
   "cell_type": "code",
   "execution_count": 12,
   "metadata": {},
   "outputs": [
    {
     "name": "stdout",
     "output_type": "stream",
     "text": [
      "['Nofil', 'rayyan', 'imran', 12, True]\n",
      "[12, True]\n"
     ]
    }
   ],
   "source": [
    "#p-index                0       1       2     3   4  \n",
    "name : list[ Any]= [\"Nofil\",\"rayyan\",\"imran\",12,True]\n",
    "#nindex                 -5      -4      -3   -2   -1\n",
    "print(name)\n",
    "print(name[ 3: ])"
   ]
  },
  {
   "cell_type": "code",
   "execution_count": 13,
   "metadata": {},
   "outputs": [
    {
     "data": {
      "text/plain": [
       "'abcdefg'"
      ]
     },
     "execution_count": 13,
     "metadata": {},
     "output_type": "execute_result"
    }
   ],
   "source": [
    "'abcdefg'"
   ]
  },
  {
   "cell_type": "code",
   "execution_count": 15,
   "metadata": {},
   "outputs": [
    {
     "data": {
      "text/plain": [
       "['a', 'b', 'c', 'd', 'e', 'f', 'g']"
      ]
     },
     "execution_count": 15,
     "metadata": {},
     "output_type": "execute_result"
    }
   ],
   "source": [
    "list('abcdefg')"
   ]
  },
  {
   "cell_type": "code",
   "execution_count": 17,
   "metadata": {},
   "outputs": [
    {
     "name": "stdout",
     "output_type": "stream",
     "text": [
      "['a', 'b', 'c', 'd', 'e', 'f', 'g', 'h', 'i', 'j', 'k', 'l', 'm', 'n', 'o', 'p', 'q', 'r', 's', 't', 'u', 'v', 'w', 'x', 'y', 'z']\n"
     ]
    }
   ],
   "source": [
    "charac : list [str] = list('abcdefghijklmnopqrstuvwxyz')\n",
    "print(charac)"
   ]
  },
  {
   "cell_type": "code",
   "execution_count": 20,
   "metadata": {},
   "outputs": [
    {
     "name": "stdout",
     "output_type": "stream",
     "text": [
      "['a', 'b', 'c']\n",
      "['a', 'c', 'e', 'g', 'i', 'k', 'm', 'o', 'q', 's', 'u', 'w', 'y']\n"
     ]
    }
   ],
   "source": [
    "charac : list [str] = list('abcdefghijklmnopqrstuvwxyz')\n",
    "# print(charac)\n",
    "\n",
    "print(charac[:3])\n",
    "print(charac[ : : 2])"
   ]
  },
  {
   "cell_type": "code",
   "execution_count": 23,
   "metadata": {},
   "outputs": [
    {
     "name": "stdout",
     "output_type": "stream",
     "text": [
      "[True, 12]\n"
     ]
    }
   ],
   "source": [
    "#p-index                0       1       2     3   4  \n",
    "name : list[ Any]= [\"Nofil\",\"rayyan\",\"imran\",12,True]\n",
    "#nindex                 -5      -4      -3   -2   -1\n",
    "print(name[-1:-3 :-1])"
   ]
  },
  {
   "cell_type": "code",
   "execution_count": null,
   "metadata": {},
   "outputs": [],
   "source": []
  }
 ],
 "metadata": {
  "kernelspec": {
   "display_name": "base",
   "language": "python",
   "name": "python3"
  },
  "language_info": {
   "codemirror_mode": {
    "name": "ipython",
    "version": 3
   },
   "file_extension": ".py",
   "mimetype": "text/x-python",
   "name": "python",
   "nbconvert_exporter": "python",
   "pygments_lexer": "ipython3",
   "version": "3.11.5"
  }
 },
 "nbformat": 4,
 "nbformat_minor": 2
}

{
 "cells": [
  {
   "cell_type": "markdown",
   "metadata": {},
   "source": [
    "#   methods of list "
   ]
  },
  {
   "cell_type": "code",
   "execution_count": 1,
   "metadata": {},
   "outputs": [
    {
     "data": {
      "text/plain": [
       "['append',\n",
       " 'clear',\n",
       " 'copy',\n",
       " 'count',\n",
       " 'extend',\n",
       " 'index',\n",
       " 'insert',\n",
       " 'pop',\n",
       " 'remove',\n",
       " 'reverse',\n",
       " 'sort']"
      ]
     },
     "execution_count": 1,
     "metadata": {},
     "output_type": "execute_result"
    }
   ],
   "source": [
    "[i for i in dir(list) if \"__\" not in i ]"
   ]
  },
  {
   "cell_type": "code",
   "execution_count": 2,
   "metadata": {},
   "outputs": [
    {
     "name": "stdout",
     "output_type": "stream",
     "text": [
      "[1, 2, 3]\n"
     ]
    }
   ],
   "source": [
    "a : list[str] = [1,2,3]\n",
    "print(a)"
   ]
  },
  {
   "cell_type": "code",
   "execution_count": 4,
   "metadata": {},
   "outputs": [
    {
     "name": "stdout",
     "output_type": "stream",
     "text": [
      "[1, 2, 3]\n"
     ]
    },
    {
     "ename": "NameError",
     "evalue": "name 'a' is not defined",
     "output_type": "error",
     "traceback": [
      "\u001b[1;31m---------------------------------------------------------------------------\u001b[0m",
      "\u001b[1;31mNameError\u001b[0m                                 Traceback (most recent call last)",
      "\u001b[1;32me:\\generative ai\\python\\class_06\\class_06.ipynb Cell 4\u001b[0m line \u001b[0;36m5\n\u001b[0;32m      <a href='vscode-notebook-cell:/e%3A/generative%20ai/python/class_06/class_06.ipynb#W5sZmlsZQ%3D%3D?line=1'>2</a>\u001b[0m \u001b[39mprint\u001b[39m(a)\n\u001b[0;32m      <a href='vscode-notebook-cell:/e%3A/generative%20ai/python/class_06/class_06.ipynb#W5sZmlsZQ%3D%3D?line=3'>4</a>\u001b[0m \u001b[39mdel\u001b[39;00m a\n\u001b[1;32m----> <a href='vscode-notebook-cell:/e%3A/generative%20ai/python/class_06/class_06.ipynb#W5sZmlsZQ%3D%3D?line=4'>5</a>\u001b[0m \u001b[39mprint\u001b[39m(a)\n",
      "\u001b[1;31mNameError\u001b[0m: name 'a' is not defined"
     ]
    }
   ],
   "source": [
    "a : list[str] = [1,2,3]\n",
    "print(a)\n",
    "\n",
    "del a\n",
    "print(a)"
   ]
  },
  {
   "cell_type": "code",
   "execution_count": 28,
   "metadata": {},
   "outputs": [
    {
     "name": "stdout",
     "output_type": "stream",
     "text": [
      "[1, 2, 3, 4, 5, 6, 7, 8]\n",
      "[1, 4, 5, 6, 7, 8]\n"
     ]
    }
   ],
   "source": [
    "a : list[str] = [1,2,3,4,5,6,7,8]\n",
    "print(a)\n",
    "\n",
    "del a[1:3]\n",
    "print(a)"
   ]
  },
  {
   "cell_type": "code",
   "execution_count": 33,
   "metadata": {},
   "outputs": [
    {
     "name": "stdout",
     "output_type": "stream",
     "text": [
      "[1, 2, 3, 4, 5, 6, 7, 8]\n",
      "[2, 4, 6, 8]\n"
     ]
    }
   ],
   "source": [
    "a : list[str] = [1,2,3,4,5,6,7,8]\n",
    "print(a)\n",
    "\n",
    "del a[: : 2]\n",
    "print(a)"
   ]
  },
  {
   "cell_type": "code",
   "execution_count": 5,
   "metadata": {},
   "outputs": [
    {
     "name": "stdout",
     "output_type": "stream",
     "text": [
      "[1, 2, 3]\n",
      "[]\n"
     ]
    }
   ],
   "source": [
    "a : list[str] = [1,2,3]\n",
    "print(a)\n",
    "\n",
    "a.clear ()\n",
    "print(a)"
   ]
  },
  {
   "cell_type": "code",
   "execution_count": 6,
   "metadata": {},
   "outputs": [
    {
     "name": "stdout",
     "output_type": "stream",
     "text": [
      "['Nofil', 'rayyan', 'fahad']\n",
      "['muhammad Nofil', 'rayyan', 'fahad']\n"
     ]
    }
   ],
   "source": [
    "name : list[str] = ['Nofil','rayyan', 'fahad']\n",
    "print(name)\n",
    "name[0]='muhammad Nofil'\n",
    "print(name)"
   ]
  },
  {
   "cell_type": "code",
   "execution_count": 7,
   "metadata": {},
   "outputs": [
    {
     "name": "stdout",
     "output_type": "stream",
     "text": [
      "['Nofil', 'rayyan', 'fahad', 20, False]\n",
      "['Nofil', 'rayyan', 'fahad', False]\n"
     ]
    }
   ],
   "source": [
    "name : list[str] = ['Nofil','rayyan', 'fahad',20,False]\n",
    "print(name)\n",
    "del name[3]\n",
    "print(name)"
   ]
  },
  {
   "cell_type": "markdown",
   "metadata": {},
   "source": [
    "##  POP"
   ]
  },
  {
   "cell_type": "code",
   "execution_count": 8,
   "metadata": {},
   "outputs": [
    {
     "name": "stdout",
     "output_type": "stream",
     "text": [
      "['Nofil', 'rayyan', 'fahad', 20, False]\n",
      "False\n"
     ]
    }
   ],
   "source": [
    "name : list[str] = ['Nofil','rayyan', 'fahad',20,False]\n",
    "print(name)\n",
    "a : str = name.pop()\n",
    "print(a)"
   ]
  },
  {
   "cell_type": "code",
   "execution_count": 10,
   "metadata": {},
   "outputs": [
    {
     "name": "stdout",
     "output_type": "stream",
     "text": [
      "['Nofil', 'rayyan', 'fahad', 20, False]\n",
      "Nofil\n",
      "['rayyan', 'fahad', 20, False]\n"
     ]
    }
   ],
   "source": [
    "name : list[str] = ['Nofil','rayyan', 'fahad',20,False]\n",
    "print(name)\n",
    "a : str = name.pop(0)\n",
    "print(a)\n",
    "print(name)"
   ]
  },
  {
   "cell_type": "markdown",
   "metadata": {},
   "source": [
    "## append add method"
   ]
  },
  {
   "cell_type": "code",
   "execution_count": 25,
   "metadata": {},
   "outputs": [
    {
     "name": "stdout",
     "output_type": "stream",
     "text": [
      "['Nofil', 'rayyan', 'fahad', 20, False]\n",
      "['Nofil', 'rayyan', 'fahad', 20, False, 56, 'inam']\n"
     ]
    }
   ],
   "source": [
    "name : list[str] = ['Nofil','rayyan', 'fahad',20,False]\n",
    "print(name)\n",
    "name.append(56)\n",
    "name.append('inam')\n",
    "print(name)"
   ]
  },
  {
   "cell_type": "code",
   "execution_count": 26,
   "metadata": {},
   "outputs": [
    {
     "data": {
      "text/plain": [
       "['Nofil', 'rayyan', 'fahad', 20, False, [1, 2, 3]]"
      ]
     },
     "execution_count": 26,
     "metadata": {},
     "output_type": "execute_result"
    }
   ],
   "source": [
    "name : list[str] = ['Nofil','rayyan', 'fahad',20,False]\n",
    "a : list[str] = [1,2,3]\n",
    "\n",
    "name.append(a)\n",
    "name\n"
   ]
  },
  {
   "cell_type": "markdown",
   "metadata": {},
   "source": [
    "## inser \n",
    "* add element in between and not del any element "
   ]
  },
  {
   "cell_type": "code",
   "execution_count": 15,
   "metadata": {},
   "outputs": [
    {
     "name": "stdout",
     "output_type": "stream",
     "text": [
      "['Nofil', 'rayyan', 'fahad', 20, False]\n",
      "['Nofil', 'fatima', 'rayyan', 'fahad', 20, False]\n"
     ]
    }
   ],
   "source": [
    "name : list[str] = ['Nofil','rayyan', 'fahad',20,False]\n",
    "print(name)\n",
    "name.insert(1,'fatima')\n",
    "print(name)"
   ]
  },
  {
   "cell_type": "markdown",
   "metadata": {},
   "source": [
    "## copy"
   ]
  },
  {
   "cell_type": "code",
   "execution_count": 17,
   "metadata": {},
   "outputs": [
    {
     "name": "stdout",
     "output_type": "stream",
     "text": [
      "before copy ['Nofil', 'rayyan', 'fahad', 20, False]\n",
      "after copy a  and b\n",
      "['Nofil', 'rayyan', 'fahad', 20, False] ['Nofil', 'rayyan', 'fahad', 20, False]\n",
      "['misbah', 'Nofil', 'rayyan', 'fahad', 20, False]\n",
      "['misbah', 'Nofil', 'rayyan', 'fahad', 20, False]\n"
     ]
    }
   ],
   "source": [
    "a : list[str] = ['Nofil','rayyan', 'fahad',20,False]\n",
    "print(\"before copy\",a)\n",
    "b = a  # shallow copy\n",
    "print('after copy a  and b')\n",
    "print(a,b)\n",
    "\n",
    "b.insert(0,'misbah')\n",
    "print(a)\n",
    "print(b)"
   ]
  },
  {
   "cell_type": "code",
   "execution_count": 21,
   "metadata": {},
   "outputs": [
    {
     "name": "stdout",
     "output_type": "stream",
     "text": [
      "before copy ['Nofil', 'rayyan', 'fahad', 20, False]\n",
      "after copy a  and b\n",
      "['Nofil', 'rayyan', 'fahad', 20, False] <built-in method copy of list object at 0x000001B105EF8A40>\n"
     ]
    },
    {
     "ename": "TypeError",
     "evalue": "'builtin_function_or_method' object does not support item assignment",
     "output_type": "error",
     "traceback": [
      "\u001b[1;31m---------------------------------------------------------------------------\u001b[0m",
      "\u001b[1;31mTypeError\u001b[0m                                 Traceback (most recent call last)",
      "\u001b[1;32me:\\generative ai\\python\\class_06\\class_06.ipynb Cell 17\u001b[0m line \u001b[0;36m7\n\u001b[0;32m      <a href='vscode-notebook-cell:/e%3A/generative%20ai/python/class_06/class_06.ipynb#X31sZmlsZQ%3D%3D?line=3'>4</a>\u001b[0m \u001b[39mprint\u001b[39m(\u001b[39m'\u001b[39m\u001b[39mafter copy a  and b\u001b[39m\u001b[39m'\u001b[39m)\n\u001b[0;32m      <a href='vscode-notebook-cell:/e%3A/generative%20ai/python/class_06/class_06.ipynb#X31sZmlsZQ%3D%3D?line=4'>5</a>\u001b[0m \u001b[39mprint\u001b[39m(a,b)\n\u001b[1;32m----> <a href='vscode-notebook-cell:/e%3A/generative%20ai/python/class_06/class_06.ipynb#X31sZmlsZQ%3D%3D?line=6'>7</a>\u001b[0m b[\u001b[39m0\u001b[39m]\u001b[39m=\u001b[39m\u001b[39m\"\u001b[39m\u001b[39mmisbah\u001b[39m\u001b[39m\"\u001b[39m\n\u001b[0;32m      <a href='vscode-notebook-cell:/e%3A/generative%20ai/python/class_06/class_06.ipynb#X31sZmlsZQ%3D%3D?line=7'>8</a>\u001b[0m \u001b[39mprint\u001b[39m(a)\n\u001b[0;32m      <a href='vscode-notebook-cell:/e%3A/generative%20ai/python/class_06/class_06.ipynb#X31sZmlsZQ%3D%3D?line=8'>9</a>\u001b[0m \u001b[39mprint\u001b[39m(b)\n",
      "\u001b[1;31mTypeError\u001b[0m: 'builtin_function_or_method' object does not support item assignment"
     ]
    }
   ],
   "source": [
    "a : list[str] = ['Nofil','rayyan', 'fahad',20,False]\n",
    "print(\"before copy\",a)\n",
    "b = a.copy # deep copy\n",
    "print('after copy a  and b')\n",
    "print(a,b)\n",
    "\n",
    "b[0]=\"misbah\"\n",
    "print(a)\n",
    "print(b)"
   ]
  },
  {
   "cell_type": "code",
   "execution_count": 22,
   "metadata": {},
   "outputs": [
    {
     "name": "stdout",
     "output_type": "stream",
     "text": [
      "before copy ['Nofil', 'rayyan', 'fahad', 20, False]\n",
      "after copy a  and b\n",
      "['Nofil', 'rayyan', 'fahad', 20, False] ['Nofil', 'rayyan', 'fahad', 20, False]\n",
      "['Nofil', 'rayyan', 'fahad', 20, False]\n",
      "['misbah', 'rayyan', 'fahad', 20, False]\n"
     ]
    }
   ],
   "source": [
    "a : list[str] = ['Nofil','rayyan', 'fahad',20,False]\n",
    "print(\"before copy\",a)\n",
    "b = a.copy() # deep copy\n",
    "print('after copy a  and b')\n",
    "print(a,b)\n",
    "\n",
    "b[0]=\"misbah\"\n",
    "print(a)\n",
    "print(b)"
   ]
  },
  {
   "cell_type": "markdown",
   "metadata": {},
   "source": [
    "## count"
   ]
  },
  {
   "cell_type": "code",
   "execution_count": 24,
   "metadata": {},
   "outputs": [
    {
     "name": "stdout",
     "output_type": "stream",
     "text": [
      "3\n",
      "5\n"
     ]
    }
   ],
   "source": [
    "name : list[str] = ['a','a','a','c','c','c','c','c']\n",
    "print(name.count(\"a\"))\n",
    "print(name.count(\"c\"))\n"
   ]
  },
  {
   "cell_type": "markdown",
   "metadata": {},
   "source": [
    "## extend"
   ]
  },
  {
   "cell_type": "code",
   "execution_count": 27,
   "metadata": {},
   "outputs": [
    {
     "data": {
      "text/plain": [
       "['Nofil', 'rayyan', 'fahad', 20, False, 1, 2, 3]"
      ]
     },
     "execution_count": 27,
     "metadata": {},
     "output_type": "execute_result"
    }
   ],
   "source": [
    "name : list[str] = ['Nofil','rayyan', 'fahad',20,False]\n",
    "a : list[str] = [1,2,3]\n",
    "\n",
    "name.extend(a)\n",
    "name"
   ]
  },
  {
   "cell_type": "markdown",
   "metadata": {},
   "source": [
    "## remove"
   ]
  },
  {
   "cell_type": "code",
   "execution_count": 35,
   "metadata": {},
   "outputs": [
    {
     "data": {
      "text/plain": [
       "['Nofil', 'fahad', 20, False]"
      ]
     },
     "execution_count": 35,
     "metadata": {},
     "output_type": "execute_result"
    }
   ],
   "source": [
    "name : list[str] = ['Nofil','rayyan', 'fahad',20,False]\n",
    "name.remove('rayyan')\n",
    "name"
   ]
  },
  {
   "cell_type": "markdown",
   "metadata": {},
   "source": [
    "## reverse"
   ]
  },
  {
   "cell_type": "code",
   "execution_count": 36,
   "metadata": {},
   "outputs": [
    {
     "data": {
      "text/plain": [
       "[8, 7, 6, 5, 4, 3, 2, 1]"
      ]
     },
     "execution_count": 36,
     "metadata": {},
     "output_type": "execute_result"
    }
   ],
   "source": [
    "a : list[str] = [1,2,3,4,5,6,7,8]\n",
    "a.reverse()\n",
    "a"
   ]
  },
  {
   "cell_type": "code",
   "execution_count": 38,
   "metadata": {},
   "outputs": [
    {
     "data": {
      "text/plain": [
       "['a', 'b', 'd', 'f', 'f', 'f', 'f', 'k', 'o', 's', 's']"
      ]
     },
     "execution_count": 38,
     "metadata": {},
     "output_type": "execute_result"
    }
   ],
   "source": [
    "a : list[str] = list('akdfbsfsfof')\n",
    "a.sort()\n",
    "a"
   ]
  },
  {
   "cell_type": "code",
   "execution_count": 40,
   "metadata": {},
   "outputs": [
    {
     "data": {
      "text/plain": [
       "['s', 's', 'o', 'k', 'f', 'f', 'f', 'f', 'd', 'b', 'a']"
      ]
     },
     "execution_count": 40,
     "metadata": {},
     "output_type": "execute_result"
    }
   ],
   "source": [
    "a : list[str] = list('akdfbsfsfof')\n",
    "a.sort(reverse= True)\n",
    "a"
   ]
  },
  {
   "cell_type": "code",
   "execution_count": null,
   "metadata": {},
   "outputs": [],
   "source": []
  }
 ],
 "metadata": {
  "kernelspec": {
   "display_name": "base",
   "language": "python",
   "name": "python3"
  },
  "language_info": {
   "codemirror_mode": {
    "name": "ipython",
    "version": 3
   },
   "file_extension": ".py",
   "mimetype": "text/x-python",
   "name": "python",
   "nbconvert_exporter": "python",
   "pygments_lexer": "ipython3",
   "version": "3.11.5"
  }
 },
 "nbformat": 4,
 "nbformat_minor": 2
}

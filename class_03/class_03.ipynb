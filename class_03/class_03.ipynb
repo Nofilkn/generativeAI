{
 "cells": [
  {
   "cell_type": "markdown",
   "metadata": {},
   "source": [
    "# F_String"
   ]
  },
  {
   "cell_type": "code",
   "execution_count": 3,
   "metadata": {},
   "outputs": [
    {
     "name": "stdout",
     "output_type": "stream",
     "text": [
      "\n",
      "visiting card\n",
      "my name is : Ali\n",
      "my Phone number  is : 221465143164\n",
      "company name  :  Nofil's coding  \n",
      "\n"
     ]
    }
   ],
   "source": [
    "name : str = \"Ali\"\n",
    "phoneNumber : int = 221465143164\n",
    "companyName : str = \"Nofil's coding \"\n",
    "\n",
    "card : str = f\"\"\"\n",
    "visiting card\n",
    "my name is : {name}\n",
    "my Phone number  is : {phoneNumber}\n",
    "company name  :  {companyName} \n",
    "\"\"\"\n",
    "\n",
    "print(card)"
   ]
  },
  {
   "cell_type": "code",
   "execution_count": 4,
   "metadata": {},
   "outputs": [
    {
     "name": "stdout",
     "output_type": "stream",
     "text": [
      "\n",
      "visiting card\n",
      "my name is : Ali\n",
      "my Phone number  is : 221465143164\n",
      "company name  :  Nofil's coding  \n",
      "\n"
     ]
    }
   ],
   "source": [
    "name : str = \"Ali\"\n",
    "phoneNumber : int = 221465143164\n",
    "companyName : str = \"Nofil's coding \"\n",
    "\n",
    "card : str = f\"\"\"\n",
    "visiting card\n",
    "my name is : %s\n",
    "my Phone number  is : %d\n",
    "company name  :  %s \n",
    "\"\"\" % (name,phoneNumber,companyName)\n",
    "\n",
    "print(card)"
   ]
  },
  {
   "cell_type": "markdown",
   "metadata": {},
   "source": [
    "## string method"
   ]
  },
  {
   "cell_type": "code",
   "execution_count": 5,
   "metadata": {},
   "outputs": [
    {
     "data": {
      "text/plain": [
       "['__add__',\n",
       " '__class__',\n",
       " '__contains__',\n",
       " '__delattr__',\n",
       " '__dir__',\n",
       " '__doc__',\n",
       " '__eq__',\n",
       " '__format__',\n",
       " '__ge__',\n",
       " '__getattribute__',\n",
       " '__getitem__',\n",
       " '__getnewargs__',\n",
       " '__getstate__',\n",
       " '__gt__',\n",
       " '__hash__',\n",
       " '__init__',\n",
       " '__init_subclass__',\n",
       " '__iter__',\n",
       " '__le__',\n",
       " '__len__',\n",
       " '__lt__',\n",
       " '__mod__',\n",
       " '__mul__',\n",
       " '__ne__',\n",
       " '__new__',\n",
       " '__reduce__',\n",
       " '__reduce_ex__',\n",
       " '__repr__',\n",
       " '__rmod__',\n",
       " '__rmul__',\n",
       " '__setattr__',\n",
       " '__sizeof__',\n",
       " '__str__',\n",
       " '__subclasshook__',\n",
       " 'capitalize',\n",
       " 'casefold',\n",
       " 'center',\n",
       " 'count',\n",
       " 'encode',\n",
       " 'endswith',\n",
       " 'expandtabs',\n",
       " 'find',\n",
       " 'format',\n",
       " 'format_map',\n",
       " 'index',\n",
       " 'isalnum',\n",
       " 'isalpha',\n",
       " 'isascii',\n",
       " 'isdecimal',\n",
       " 'isdigit',\n",
       " 'isidentifier',\n",
       " 'islower',\n",
       " 'isnumeric',\n",
       " 'isprintable',\n",
       " 'isspace',\n",
       " 'istitle',\n",
       " 'isupper',\n",
       " 'join',\n",
       " 'ljust',\n",
       " 'lower',\n",
       " 'lstrip',\n",
       " 'maketrans',\n",
       " 'partition',\n",
       " 'removeprefix',\n",
       " 'removesuffix',\n",
       " 'replace',\n",
       " 'rfind',\n",
       " 'rindex',\n",
       " 'rjust',\n",
       " 'rpartition',\n",
       " 'rsplit',\n",
       " 'rstrip',\n",
       " 'split',\n",
       " 'splitlines',\n",
       " 'startswith',\n",
       " 'strip',\n",
       " 'swapcase',\n",
       " 'title',\n",
       " 'translate',\n",
       " 'upper',\n",
       " 'zfill']"
      ]
     },
     "execution_count": 5,
     "metadata": {},
     "output_type": "execute_result"
    }
   ],
   "source": [
    "dir(str)"
   ]
  },
  {
   "cell_type": "code",
   "execution_count": 11,
   "metadata": {},
   "outputs": [
    {
     "name": "stdout",
     "output_type": "stream",
     "text": [
      "pakistan value a= 4 and value b =7\n"
     ]
    }
   ],
   "source": [
    "# formate \n",
    "a  = 4\n",
    "b   = 7\n",
    "#     {} place holder    0               1   \n",
    "print(\"pakistan value a= {} and value b ={}\".format(a,b))"
   ]
  },
  {
   "cell_type": "code",
   "execution_count": 14,
   "metadata": {},
   "outputs": [
    {
     "name": "stdout",
     "output_type": "stream",
     "text": [
      "Muhammad nofil\n"
     ]
    }
   ],
   "source": [
    "name : str = \"mUhammAD NOfiL\"\n",
    "print(name.capitalize())"
   ]
  },
  {
   "cell_type": "code",
   "execution_count": 15,
   "metadata": {},
   "outputs": [
    {
     "name": "stdout",
     "output_type": "stream",
     "text": [
      "muhammad nofil\n"
     ]
    }
   ],
   "source": [
    "name : str = \"mUhammAD NOfiL\"\n",
    "print(name.lower())"
   ]
  },
  {
   "cell_type": "code",
   "execution_count": 16,
   "metadata": {},
   "outputs": [
    {
     "name": "stdout",
     "output_type": "stream",
     "text": [
      "MUHAMMAD NOFIL\n"
     ]
    }
   ],
   "source": [
    "name : str = \"mUhammAD NOfiL\"\n",
    "print(name.upper())"
   ]
  },
  {
   "cell_type": "code",
   "execution_count": 23,
   "metadata": {},
   "outputs": [
    {
     "name": "stdout",
     "output_type": "stream",
     "text": [
      "\n",
      "visiting card\n",
      "my name is : 221465143164\n",
      "my Phone number  is : Ali\n",
      "company name  :  Nofil's coding  \n",
      "\n"
     ]
    }
   ],
   "source": [
    "name : str = \"Ali\"\n",
    "phoneNumber : int = 221465143164\n",
    "companyName : str = \"Nofil's coding \"\n",
    "\n",
    "card : str = \"\"\"\n",
    "visiting card\n",
    "my name is : {}\n",
    "my Phone number  is : {}\n",
    "company name  :  {} \n",
    "\"\"\" .format(phoneNumber,name,companyName)\n",
    "# indexing      0       1      2\n",
    "print(card)"
   ]
  },
  {
   "cell_type": "code",
   "execution_count": null,
   "metadata": {},
   "outputs": [],
   "source": []
  }
 ],
 "metadata": {
  "kernelspec": {
   "display_name": "base",
   "language": "python",
   "name": "python3"
  },
  "language_info": {
   "codemirror_mode": {
    "name": "ipython",
    "version": 3
   },
   "file_extension": ".py",
   "mimetype": "text/x-python",
   "name": "python",
   "nbconvert_exporter": "python",
   "pygments_lexer": "ipython3",
   "version": "3.11.5"
  }
 },
 "nbformat": 4,
 "nbformat_minor": 2
}

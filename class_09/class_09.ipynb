{
 "cells": [
  {
   "cell_type": "markdown",
   "metadata": {},
   "source": [
    "# if else\n",
    "\n",
    "* if logic\n",
    "  * true_blo\n",
    "* else\n",
    "    * false "
   ]
  },
  {
   "cell_type": "code",
   "execution_count": 4,
   "metadata": {},
   "outputs": [
    {
     "name": "stdout",
     "output_type": "stream",
     "text": [
      "true block\n"
     ]
    }
   ],
   "source": [
    "if True:\n",
    "    print(\"true block\")\n",
    "else:\n",
    "    print(\"false block\")"
   ]
  },
  {
   "cell_type": "code",
   "execution_count": 5,
   "metadata": {},
   "outputs": [
    {
     "name": "stdout",
     "output_type": "stream",
     "text": [
      "false block\n"
     ]
    }
   ],
   "source": [
    "if False:\n",
    "    print(\"first block\")\n",
    "else:\n",
    "    print(\"second block\")"
   ]
  },
  {
   "cell_type": "code",
   "execution_count": 6,
   "metadata": {},
   "outputs": [
    {
     "name": "stdout",
     "output_type": "stream",
     "text": [
      "first block\n"
     ]
    }
   ],
   "source": [
    "print(\"first block\") if True else print(\"second block\")"
   ]
  },
  {
   "cell_type": "markdown",
   "metadata": {},
   "source": [
    "* if \n",
    "* if-else\n",
    "* if-elif-else"
   ]
  },
  {
   "cell_type": "markdown",
   "metadata": {},
   "source": [
    "## comprehensive operations\n",
    "\n",
    "* ==\n",
    "* '>=\n",
    "* <=\n",
    "* !=\n",
    "## Logical operators\n",
    "\n",
    "* and\n",
    "* or\n",
    "* not"
   ]
  },
  {
   "cell_type": "code",
   "execution_count": 9,
   "metadata": {},
   "outputs": [
    {
     "name": "stdout",
     "output_type": "stream",
     "text": [
      "iside condition\n",
      "1\n"
     ]
    }
   ],
   "source": [
    "if True:\n",
    "    print(\"iside condition\")\n",
    "print('1')\n"
   ]
  },
  {
   "cell_type": "code",
   "execution_count": 14,
   "metadata": {},
   "outputs": [
    {
     "name": "stdout",
     "output_type": "stream",
     "text": [
      "outof the box\n"
     ]
    }
   ],
   "source": [
    "if False:\n",
    "    print(\"first\")\n",
    "elif False:\n",
    "    print(\"second\") \n",
    "elif False:\n",
    "    print(\"third\")\n",
    "else:\n",
    "    print(\"outof the box\")\n"
   ]
  },
  {
   "cell_type": "code",
   "execution_count": 16,
   "metadata": {},
   "outputs": [
    {
     "name": "stdout",
     "output_type": "stream",
     "text": [
      "outof the box\n",
      "second\n"
     ]
    }
   ],
   "source": [
    "# first block\n",
    "if False:\n",
    "    print(\"first\")\n",
    "elif False:\n",
    "    print(\"second\") \n",
    "elif False:\n",
    "    print(\"third\")\n",
    "else:\n",
    "    print(\"outof the box\")\n",
    "\n",
    "#second block\n",
    "if False:\n",
    "    print(\"first\")\n",
    "elif True:\n",
    "    print(\"second\") \n",
    "elif False:\n",
    "    print(\"third\")\n",
    "else:\n",
    "    print(\"outof the box\")"
   ]
  },
  {
   "cell_type": "markdown",
   "metadata": {},
   "source": [
    "### graidng system"
   ]
  },
  {
   "cell_type": "code",
   "execution_count": 21,
   "metadata": {},
   "outputs": [
    {
     "name": "stdout",
     "output_type": "stream",
     "text": [
      "Dear student you percentage is 125 and grade is A+\n"
     ]
    }
   ],
   "source": [
    "from typing import Union\n",
    "\n",
    "per : Union[int, float]=125\n",
    "grade : Union[str,None] =None\n",
    "\n",
    "if per >= 80:\n",
    "    grade = \"A+\"\n",
    "\n",
    "elif per >= 70:\n",
    "    grade = \"A\"\n",
    "\n",
    "elif per >= 60:\n",
    "    grade = \"B\"\n",
    "\n",
    "elif per >= 50:\n",
    "    grade = \"C\"\n",
    "\n",
    "elif per >= 40:\n",
    "    grade = \"D\"\n",
    "else:\n",
    "    grade = \"F\"\n",
    "\n",
    "\n",
    "print(f\"Dear student you percentage is {per} and grade is {grade}\")"
   ]
  },
  {
   "cell_type": "code",
   "execution_count": 23,
   "metadata": {},
   "outputs": [
    {
     "name": "stdout",
     "output_type": "stream",
     "text": [
      "inavlid percentages not supported\n",
      "Dear student you percentage is 125 and grade is None\n"
     ]
    }
   ],
   "source": [
    "from typing import Union\n",
    "\n",
    "per : Union[int, float]=125\n",
    "grade : Union[str,None] =None\n",
    "\n",
    "if per >= 80 and per <=100:\n",
    "    grade = \"A+\"\n",
    "\n",
    "elif per >= 70 and per < 80:\n",
    "    grade = \"A\"\n",
    "\n",
    "elif per >= 60 and per < 70:\n",
    "    grade = \"B\"\n",
    "\n",
    "elif per >= 50 and per < 60:\n",
    "    grade = \"C\"\n",
    "\n",
    "elif per >= 40 and per < 50:\n",
    "    grade = \"D\"\n",
    "elif per >=0 and per < 40:\n",
    "    grade = \"F\"\n",
    "else:\n",
    "    print(\"inavlid percentages not supported\")\n",
    "\n",
    "\n",
    "print(f\"Dear student you percentage is {per} and grade is {grade}\")"
   ]
  },
  {
   "cell_type": "code",
   "execution_count": 32,
   "metadata": {},
   "outputs": [
    {
     "name": "stdout",
     "output_type": "stream",
     "text": [
      "inavlid percentages not supported\n",
      "Dear student you percentage is -98 and grade is None\n"
     ]
    }
   ],
   "source": [
    "from typing import Union\n",
    "\n",
    "per : Union[int, float]=int(input(\"enter your percentage\"))\n",
    "grade : Union[str,None] =None\n",
    "\n",
    "if per >= 80 and per <= 100:\n",
    "    grade = \"A+\"\n",
    "\n",
    "elif per >= 70 and per < 80:\n",
    "    grade = \"A\"\n",
    "\n",
    "elif per >= 60 and per < 70:\n",
    "    grade = \"B\"\n",
    "\n",
    "elif per >= 50 and per < 60:\n",
    "    grade = \"C\"\n",
    "\n",
    "elif per >= 40 and per < 50:\n",
    "    grade = \"D\"\n",
    "elif per >=0 and per < 40:\n",
    "    grade = \"F\"\n",
    "else:\n",
    "    print(\"inavlid percentages not supported\")\n",
    "\n",
    "\n",
    "print(f\"Dear student you percentage is {per} and grade is {grade}\")"
   ]
  },
  {
   "cell_type": "code",
   "execution_count": 72,
   "metadata": {},
   "outputs": [
    {
     "name": "stdout",
     "output_type": "stream",
     "text": [
      "[88, 76, 97, 43, 66, 0, 56]\n",
      "['A+', 'A', 'A+', 'D', 'B', 'F', 'C']\n"
     ]
    }
   ],
   "source": [
    "# data base \n",
    "\n",
    "\n",
    "from typing import Union\n",
    "\n",
    "per_type = Union[int,float]\n",
    "\n",
    "percentage : list[per_type]=[88,76,97,43,66,0,56]\n",
    "grades : list[str]=[]\n",
    "\n",
    "for per in percentage:\n",
    "    grade : str =\"\"\n",
    "\n",
    "    if per >= 80 and per <= 100:\n",
    "        grade = \"A+\"\n",
    "\n",
    "    elif per >= 70 and per < 80:\n",
    "        grade = \"A\"\n",
    "\n",
    "    elif per >= 60 and per < 70:\n",
    "        grade = \"B\"\n",
    "\n",
    "    elif per >= 50 and per < 60:\n",
    "        grade = \"C\"\n",
    "\n",
    "    elif per >= 40 and per < 50:\n",
    "        grade = \"D\"\n",
    "    elif per >=0 and per < 40:\n",
    "        grade = \"F\"\n",
    "    else:\n",
    "        print(\"inavlid percentages not supported\")\n",
    "    \n",
    "    grades.append(grade)\n",
    "\n",
    "\n",
    "print(percentage)\n",
    "print(grades)"
   ]
  },
  {
   "cell_type": "code",
   "execution_count": 73,
   "metadata": {},
   "outputs": [
    {
     "data": {
      "text/plain": [
       "<zip at 0x1349c562d40>"
      ]
     },
     "execution_count": 73,
     "metadata": {},
     "output_type": "execute_result"
    }
   ],
   "source": [
    "zip(percentage,grades)"
   ]
  },
  {
   "cell_type": "code",
   "execution_count": 74,
   "metadata": {},
   "outputs": [
    {
     "data": {
      "text/plain": [
       "[(88, 'A+'), (76, 'A'), (97, 'A+'), (43, 'D'), (66, 'B'), (0, 'F'), (56, 'C')]"
      ]
     },
     "execution_count": 74,
     "metadata": {},
     "output_type": "execute_result"
    }
   ],
   "source": [
    "list(zip(percentage,grades))"
   ]
  },
  {
   "cell_type": "code",
   "execution_count": 75,
   "metadata": {},
   "outputs": [],
   "source": [
    "roll_no : list[int]= list(range(1,8))\n",
    "roll_no"
   ]
  },
  {
   "cell_type": "code",
   "execution_count": 76,
   "metadata": {},
   "outputs": [
    {
     "data": {
      "text/plain": [
       "[(1, 88, 'A+'),\n",
       " (2, 76, 'A'),\n",
       " (3, 97, 'A+'),\n",
       " (4, 43, 'D'),\n",
       " (5, 66, 'B'),\n",
       " (6, 0, 'F'),\n",
       " (7, 56, 'C')]"
      ]
     },
     "execution_count": 76,
     "metadata": {},
     "output_type": "execute_result"
    }
   ],
   "source": [
    "data_base=list(zip(roll_no,percentage,grades))\n",
    "data_base "
   ]
  },
  {
   "cell_type": "code",
   "execution_count": 77,
   "metadata": {},
   "outputs": [
    {
     "data": {
      "text/plain": [
       "[(1, 88, 'A+'),\n",
       " (2, 76, 'A'),\n",
       " (3, 97, 'A+'),\n",
       " (4, 43, 'D'),\n",
       " (5, 66, 'B'),\n",
       " (6, 0, 'F'),\n",
       " (7, 56, 'C')]"
      ]
     },
     "metadata": {},
     "output_type": "display_data"
    },
    {
     "data": {
      "text/plain": [
       "[(1, 88, 'A+'),\n",
       " (2, 76, 'A'),\n",
       " (3, 97, 'A+'),\n",
       " (4, 43, 'D'),\n",
       " (5, 66, 'B'),\n",
       " (6, 0, 'F'),\n",
       " (7, 56, 'C')]"
      ]
     },
     "execution_count": 77,
     "metadata": {},
     "output_type": "execute_result"
    }
   ],
   "source": [
    "display(data_base)\n",
    "sorted(data_base)"
   ]
  },
  {
   "cell_type": "code",
   "execution_count": 70,
   "metadata": {},
   "outputs": [
    {
     "data": {
      "text/plain": [
       "[(1, 88, 'A+'),\n",
       " (2, 76, 'A'),\n",
       " (3, 97, 'A+'),\n",
       " (4, 43, 'D'),\n",
       " (5, 66, 'B'),\n",
       " (6, 0, 'F'),\n",
       " (7, 56, 'C')]"
      ]
     },
     "metadata": {},
     "output_type": "display_data"
    },
    {
     "data": {
      "text/plain": [
       "[(6, 0, 'F'),\n",
       " (4, 43, 'D'),\n",
       " (7, 56, 'C'),\n",
       " (5, 66, 'B'),\n",
       " (2, 76, 'A'),\n",
       " (1, 88, 'A+'),\n",
       " (3, 97, 'A+')]"
      ]
     },
     "execution_count": 70,
     "metadata": {},
     "output_type": "execute_result"
    }
   ],
   "source": [
    "display(data_base)\n",
    "sorted(data_base , key=lambda x:x[1])"
   ]
  },
  {
   "cell_type": "code",
   "execution_count": 71,
   "metadata": {},
   "outputs": [
    {
     "data": {
      "text/plain": [
       "[(1, 88, 'A+'),\n",
       " (2, 76, 'A'),\n",
       " (3, 97, 'A+'),\n",
       " (4, 43, 'D'),\n",
       " (5, 66, 'B'),\n",
       " (6, 0, 'F'),\n",
       " (7, 56, 'C')]"
      ]
     },
     "metadata": {},
     "output_type": "display_data"
    },
    {
     "data": {
      "text/plain": [
       "[(3, 97, 'A+'),\n",
       " (1, 88, 'A+'),\n",
       " (2, 76, 'A'),\n",
       " (5, 66, 'B'),\n",
       " (7, 56, 'C'),\n",
       " (4, 43, 'D'),\n",
       " (6, 0, 'F')]"
      ]
     },
     "execution_count": 71,
     "metadata": {},
     "output_type": "execute_result"
    }
   ],
   "source": [
    "display(data_base)\n",
    "sorted(data_base , key=lambda x:x[1],reverse=True)"
   ]
  },
  {
   "cell_type": "code",
   "execution_count": 83,
   "metadata": {},
   "outputs": [
    {
     "data": {
      "text/plain": [
       "[(1, (97, 'A+')),\n",
       " (2, (88, 'A+')),\n",
       " (3, (76, 'A')),\n",
       " (4, (66, 'B')),\n",
       " (5, (56, 'C')),\n",
       " (6, (43, 'D')),\n",
       " (7, (0, 'F'))]"
      ]
     },
     "execution_count": 83,
     "metadata": {},
     "output_type": "execute_result"
    }
   ],
   "source": [
    "\n",
    "data_sorted = list(zip(percentage,grades))\n",
    "data_sorted\n",
    "data = sorted(data_sorted , key=lambda x:x[0],reverse=True)\n",
    "num : list[int]= list(range(1,8))\n",
    "list(zip(num,data))\n"
   ]
  },
  {
   "cell_type": "code",
   "execution_count": 91,
   "metadata": {},
   "outputs": [
    {
     "name": "stdout",
     "output_type": "stream",
     "text": [
      "audi\n",
      "audi not in list \n",
      "audi not in list \n"
     ]
    }
   ],
   "source": [
    "cars :list [str]= ['audi','bmw','toyota']\n",
    "for i in cars:\n",
    "    if i=='audi':\n",
    "        print(i)\n",
    "    else:\n",
    "        print(\"audi not in list \")\n"
   ]
  },
  {
   "cell_type": "code",
   "execution_count": 94,
   "metadata": {},
   "outputs": [],
   "source": [
    "number : int = 34\n",
    "if number != 34:\n",
    "    print(\"number is not match\")"
   ]
  },
  {
   "cell_type": "code",
   "execution_count": 95,
   "metadata": {},
   "outputs": [
    {
     "data": {
      "text/plain": [
       "True"
      ]
     },
     "execution_count": 95,
     "metadata": {},
     "output_type": "execute_result"
    }
   ],
   "source": [
    "cars :list [str]= ['audi','bmw','toyota']\n",
    "\n",
    "\"bmw\" in cars "
   ]
  },
  {
   "cell_type": "code",
   "execution_count": 96,
   "metadata": {},
   "outputs": [
    {
     "data": {
      "text/plain": [
       "False"
      ]
     },
     "execution_count": 96,
     "metadata": {},
     "output_type": "execute_result"
    }
   ],
   "source": [
    "cars :list [str]= ['audi','bmw','toyota']\n",
    "\n",
    "\"honda\" in cars "
   ]
  },
  {
   "cell_type": "code",
   "execution_count": 97,
   "metadata": {},
   "outputs": [
    {
     "name": "stdout",
     "output_type": "stream",
     "text": [
      "adding tomat\n",
      "adding mayo\n",
      "adding extra toping\n",
      "finish making\n"
     ]
    }
   ],
   "source": [
    "burger : list[str] = ['tomato','mayo','extra toping']\n",
    "if 'tomato' in burger:\n",
    "    print(\"adding tomat\")\n",
    "if 'mayo' in burger:\n",
    "    print(\"adding mayo\")\n",
    "if 'extra toping' in burger:\n",
    "    print(\"adding extra toping\")\n",
    "\n",
    "print(\"finish making\")"
   ]
  },
  {
   "cell_type": "code",
   "execution_count": 98,
   "metadata": {},
   "outputs": [
    {
     "name": "stdout",
     "output_type": "stream",
     "text": [
      "adding tomat\n",
      "adding mayo\n",
      "finish making\n"
     ]
    }
   ],
   "source": [
    "burger : list[str] = ['tomato','mayo','extra toping']\n",
    "if 'tomato' in burger:\n",
    "    print(\"adding tomat\")\n",
    "if 'mayo' in burger:\n",
    "    print(\"adding mayo\")\n",
    "if 'potato' in burger:\n",
    "    print(\"adding extra toping\")\n",
    "\n",
    "print(\"finish making\")"
   ]
  },
  {
   "cell_type": "code",
   "execution_count": 99,
   "metadata": {},
   "outputs": [
    {
     "data": {
      "text/plain": [
       "['mayo', 'tomato', 'potato']"
      ]
     },
     "execution_count": 99,
     "metadata": {},
     "output_type": "execute_result"
    }
   ],
   "source": [
    "input(\"enter  ',' seperate value for topping\").split(\",\")"
   ]
  },
  {
   "cell_type": "code",
   "execution_count": null,
   "metadata": {},
   "outputs": [],
   "source": []
  }
 ],
 "metadata": {
  "kernelspec": {
   "display_name": "Python 3",
   "language": "python",
   "name": "python3"
  },
  "language_info": {
   "codemirror_mode": {
    "name": "ipython",
    "version": 3
   },
   "file_extension": ".py",
   "mimetype": "text/x-python",
   "name": "python",
   "nbconvert_exporter": "python",
   "pygments_lexer": "ipython3",
   "version": "3.11.5"
  }
 },
 "nbformat": 4,
 "nbformat_minor": 2
}

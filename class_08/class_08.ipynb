{
 "cells": [
  {
   "cell_type": "markdown",
   "metadata": {},
   "source": [
    "# LOOP"
   ]
  },
  {
   "cell_type": "markdown",
   "metadata": {},
   "source": [
    "* in"
   ]
  },
  {
   "cell_type": "code",
   "execution_count": 8,
   "metadata": {},
   "outputs": [
    {
     "name": "stdout",
     "output_type": "stream",
     "text": [
      "Nofil\n",
      "imran\n",
      "abdullah\n"
     ]
    }
   ],
   "source": [
    "names : list[str] = ['Nofil','imran','abdullah']\n",
    "\n",
    "for a in names:\n",
    "    print(a)"
   ]
  },
  {
   "cell_type": "markdown",
   "metadata": {},
   "source": [
    "names : list[str] = ['Nofil','imran','abdullah']\n",
    "\n",
    "for (i==0 ; i<nmaes.length ; i++){\n",
    "    names[i]\n",
    " \n",
    "\n",
    "}"
   ]
  },
  {
   "cell_type": "code",
   "execution_count": 13,
   "metadata": {},
   "outputs": [
    {
     "name": "stdout",
     "output_type": "stream",
     "text": [
      "Nofil\n",
      "imran\n",
      "abdullah\n"
     ]
    }
   ],
   "source": [
    "names : list[str] = ['Nofil','imran','abdullah']\n",
    "i: int =0\n",
    "\n",
    "while i<len(names):\n",
    "    print(names[i])\n",
    "    i+=1"
   ]
  },
  {
   "cell_type": "code",
   "execution_count": 16,
   "metadata": {},
   "outputs": [
    {
     "name": "stdout",
     "output_type": "stream",
     "text": [
      "welcone to nofils coding corner Nofil\n",
      "welcone to nofils coding corner Imran\n",
      "welcone to nofils coding corner Abdullah\n"
     ]
    }
   ],
   "source": [
    "names : list[str] = ['Nofil','imran','abdullah']\n",
    "\n",
    "for names in names:\n",
    "    print(f'welcone to nofils coding corner {names.title()}')\n"
   ]
  },
  {
   "cell_type": "code",
   "execution_count": 18,
   "metadata": {},
   "outputs": [
    {
     "name": "stdout",
     "output_type": "stream",
     "text": [
      "welcone to nofils coding corner Nofil\n",
      "inside the loop\n",
      "welcone to nofils coding corner Imran\n",
      "inside the loop\n",
      "welcone to nofils coding corner Abdullah\n",
      "inside the loop\n",
      "outside the loop\n"
     ]
    }
   ],
   "source": [
    "names : list[str] = ['Nofil','imran','abdullah']\n",
    "\n",
    "for names in names:\n",
    "    print(f'welcone to nofils coding corner {names.title()}')\n",
    "    print(\"inside the loop\")\n",
    "\n",
    "\n",
    "print(\"outside the loop\")"
   ]
  },
  {
   "cell_type": "code",
   "execution_count": 19,
   "metadata": {},
   "outputs": [
    {
     "name": "stdout",
     "output_type": "stream",
     "text": [
      "welcone to nofils coding corner Imran\n",
      "inside the loop\n",
      "welcone to nofils coding corner Abdullah\n",
      "inside the loop\n"
     ]
    }
   ],
   "source": [
    "names : list[str] = ['Nofil','imran','abdullah']\n",
    "\n",
    "for names in names[1: : ]:\n",
    "    print(f'welcone to nofils coding corner {names.title()}')\n",
    "    print(\"inside the loop\")\n"
   ]
  },
  {
   "cell_type": "code",
   "execution_count": 20,
   "metadata": {},
   "outputs": [
    {
     "name": "stdout",
     "output_type": "stream",
     "text": [
      "welcone to nofils coding corner N\n",
      "inside the loop\n",
      "welcone to nofils coding corner O\n",
      "inside the loop\n",
      "welcone to nofils coding corner F\n",
      "inside the loop\n",
      "welcone to nofils coding corner I\n",
      "inside the loop\n",
      "welcone to nofils coding corner L\n",
      "inside the loop\n"
     ]
    }
   ],
   "source": [
    "names : list[str] = ['Nofil','imran','abdullah']\n",
    "\n",
    "for names in names[0]:\n",
    "    print(f'welcone to nofils coding corner {names.title()}')\n",
    "    print(\"inside the loop\")"
   ]
  },
  {
   "cell_type": "code",
   "execution_count": 23,
   "metadata": {},
   "outputs": [
    {
     "name": "stdout",
     "output_type": "stream",
     "text": [
      "('nofil', 'male')\n",
      "('hina', 'female')\n",
      "('imran', 'male')\n"
     ]
    }
   ],
   "source": [
    "data_base : list[tuple[str,str]] = [\n",
    "                                        (\"nofil\" , 'male'),\n",
    "                                        ('hina', 'female'),\n",
    "                                        ('imran',  'male')\n",
    "                                    ]\n",
    "\n",
    "for row in data_base:\n",
    "    print(row)"
   ]
  },
  {
   "cell_type": "code",
   "execution_count": 25,
   "metadata": {},
   "outputs": [
    {
     "name": "stdout",
     "output_type": "stream",
     "text": [
      "Nofil\n",
      "end\n"
     ]
    }
   ],
   "source": [
    "names : list[str] = ['Nofil','imran','abdullah']\n",
    "\n",
    "for names in names:\n",
    "    print(names)\n",
    "    break\n",
    "print(\"end\")"
   ]
  },
  {
   "cell_type": "code",
   "execution_count": 26,
   "metadata": {},
   "outputs": [
    {
     "data": {
      "text/plain": [
       "[(0, 'Nofil'), (1, 'imran'), (2, 'abdullah')]"
      ]
     },
     "execution_count": 26,
     "metadata": {},
     "output_type": "execute_result"
    }
   ],
   "source": [
    "names : list[str] = ['Nofil','imran','abdullah']\n",
    "\n",
    "list(enumerate(names))"
   ]
  },
  {
   "cell_type": "markdown",
   "metadata": {},
   "source": [
    "# number with loop"
   ]
  },
  {
   "cell_type": "code",
   "execution_count": 27,
   "metadata": {},
   "outputs": [
    {
     "data": {
      "text/plain": [
       "range(0, 10)"
      ]
     },
     "execution_count": 27,
     "metadata": {},
     "output_type": "execute_result"
    }
   ],
   "source": [
    "range(0,10)"
   ]
  },
  {
   "cell_type": "code",
   "execution_count": 28,
   "metadata": {},
   "outputs": [
    {
     "data": {
      "text/plain": [
       "[0, 1, 2, 3, 4, 5, 6, 7, 8, 9]"
      ]
     },
     "execution_count": 28,
     "metadata": {},
     "output_type": "execute_result"
    }
   ],
   "source": [
    "list(range(0,10))"
   ]
  },
  {
   "cell_type": "code",
   "execution_count": 29,
   "metadata": {},
   "outputs": [
    {
     "data": {
      "text/plain": [
       "[0, 2, 4, 6, 8]"
      ]
     },
     "execution_count": 29,
     "metadata": {},
     "output_type": "execute_result"
    }
   ],
   "source": [
    "list(range(0,10,2))"
   ]
  },
  {
   "cell_type": "code",
   "execution_count": 30,
   "metadata": {},
   "outputs": [
    {
     "name": "stdout",
     "output_type": "stream",
     "text": [
      "0\n",
      "1\n",
      "2\n",
      "3\n",
      "4\n",
      "5\n",
      "6\n",
      "7\n",
      "8\n",
      "9\n"
     ]
    }
   ],
   "source": [
    "for n in range(0,10):\n",
    "    print(n)"
   ]
  },
  {
   "cell_type": "code",
   "execution_count": 31,
   "metadata": {},
   "outputs": [
    {
     "name": "stdout",
     "output_type": "stream",
     "text": [
      "2 * 1 = 2\n",
      "2 * 2 = 4\n",
      "2 * 3 = 6\n",
      "2 * 4 = 8\n",
      "2 * 5 = 10\n",
      "2 * 6 = 12\n",
      "2 * 7 = 14\n",
      "2 * 8 = 16\n",
      "2 * 9 = 18\n",
      "2 * 10 = 20\n"
     ]
    }
   ],
   "source": [
    "for n in range(1,11):\n",
    "    print(f'2 * {n} = {2*n}')"
   ]
  },
  {
   "cell_type": "code",
   "execution_count": 32,
   "metadata": {},
   "outputs": [
    {
     "name": "stdout",
     "output_type": "stream",
     "text": [
      "[1, 4, 9, 16, 25, 36, 49, 64, 81, 100]\n"
     ]
    }
   ],
   "source": [
    "squares :list[int] = []\n",
    "for value in range(1,11):\n",
    "    square= value ** 2\n",
    "    squares.append(square)\n",
    "print(squares)    "
   ]
  },
  {
   "cell_type": "code",
   "execution_count": 34,
   "metadata": {},
   "outputs": [
    {
     "name": "stdout",
     "output_type": "stream",
     "text": [
      "1\n",
      "4\n",
      "9\n",
      "16\n",
      "25\n",
      "36\n",
      "49\n",
      "64\n",
      "81\n",
      "100\n"
     ]
    }
   ],
   "source": [
    "for square in range(1,11):\n",
    "    print(square**2)"
   ]
  },
  {
   "cell_type": "code",
   "execution_count": 37,
   "metadata": {},
   "outputs": [
    {
     "data": {
      "text/plain": [
       "[1, 4, 9, 16, 25, 36, 49, 64, 81, 100]"
      ]
     },
     "execution_count": 37,
     "metadata": {},
     "output_type": "execute_result"
    }
   ],
   "source": [
    "[square**2 for square in range(1,11)]"
   ]
  },
  {
   "cell_type": "code",
   "execution_count": null,
   "metadata": {},
   "outputs": [],
   "source": []
  }
 ],
 "metadata": {
  "kernelspec": {
   "display_name": "base",
   "language": "python",
   "name": "python3"
  },
  "language_info": {
   "codemirror_mode": {
    "name": "ipython",
    "version": 3
   },
   "file_extension": ".py",
   "mimetype": "text/x-python",
   "name": "python",
   "nbconvert_exporter": "python",
   "pygments_lexer": "ipython3",
   "version": "3.11.5"
  }
 },
 "nbformat": 4,
 "nbformat_minor": 2
}
